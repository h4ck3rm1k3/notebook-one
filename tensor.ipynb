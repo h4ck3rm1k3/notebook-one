{
 "cells": [
  {
   "cell_type": "markdown",
   "metadata": {},
   "source": [
    "# test\n",
    "This is a test\n",
    "\n",
    "## Bootstrap\n",
    "\n",
    "    wget https://repo.continuum.io/archive/Anaconda3-4.2.0-Linux-x86_64.sh\n",
    "    bash Anaconda3-4.2.0-Linux-x86_64.sh   \n",
    "    . ~/.bashrc\n",
    "    conda create -n tensorflow python=3.5\n",
    "    source activate tensorflow\n",
    "    conda install -c conda-forge tensorflow\n",
    "    jupyter notebook --ip=0.0.0.0\n",
    "\n",
    "\n",
    "## widgits\n",
    "\n",
    "pip install ipywidgets\n",
    "jupyter nbextension enable --py widgetsnbextension\n",
    "jupyter serverextension enable --py ipyparallel\n",
    "\n",
    "## bash\n",
    "https://github.com/takluyver/bash_kernel\n",
    "git clone https://github.com/takluyver/bash_kernel.git\n",
    "python -m bash_kernel.install\n",
    "\n",
    "# model \n",
    "\n",
    "\n",
    "# jupyter \n",
    "https://jupyter.readthedocs.io/en/latest/install.html\n",
    "\n",
    "kernels \n",
    "https://github.com/ipython/ipython/wiki/IPython-kernels-for-other-languages\n",
    "\n",
    "https://github.com/JuliaLang/IJulia.jl\n",
    "\n",
    "    sudo apt-get install julia\n",
    "    julia\n",
    "    \n",
    "in julia:\n",
    "\n",
    "    Pkg.add(\"IJulia\")\n",
    "    \n",
    "    sudo apt-get install python3-zmq\n",
    "    sudo apt-get install libzmqpp-dev\n",
    "    Pkg.build(\"ZMQ\")\n",
    "    \n",
    "\n",
    "https://metacpan.org/release/Devel-IPerl\n",
    "    sudo apt install cpanminus           \n",
    "    cpanm Reply::Plugin::IPerl\n",
    "\n",
    "## itorch\n",
    "https://github.com/facebook/iTorch\n",
    "\n",
    "    git clone https://github.com/facebook/iTorch.git\n",
    "    cd iTorch/\n",
    "    sudo apt install luarocks  libzmq-dev       \n",
    "    sudo luarocks make\n",
    "\n",
    "# ipyparallel\n",
    "https://github.com/ipython/ipyparallel\n",
    "\n",
    "## my book:\n",
    "git@github.com:h4ck3rm1k3/notebook-one.git\n",
    "\n",
    "bokeh\n",
    "http://bokeh.pydata.org/en/latest/docs/gallery.html\n",
    "\n",
    "torch7\n",
    "https://github.com/torch/torch7\n",
    "\n",
    "torch.ch\n",
    "http://torch.ch/docs/tutorials.html\n",
    "\n",
    "\n",
    "## git integration\n",
    "https://github.com/Lab41/sunny-side-up/blob/master/frameworks/docker/keras-cuda-jupyter/config/jupyter/extensions/github_commit_push.py\n",
    "\n",
    "\n",
    "\n",
    "## Julia\n",
    "https://en.wikipedia.org/wiki/Julia_%28programming_language%29\n",
    "\n",
    "\n",
    "### Julia Graphs:\n",
    "http://graphsjl-docs.readthedocs.io/en/latest/algorithms.html\n",
    "https://github.com/JuliaArchive/Graphs.jl\n",
    "\n",
    "julia:\n",
    "    Pkg.add(\"Graphs\")\n",
    "\n",
    "## tensor \n",
    "#### getting started\n",
    "https://www.tensorflow.org/versions/r0.11/get_started/os_setup.html#optional-install-cuda-gpus-on-linux\n",
    "\n",
    "    import os; import inspect; import tensorflow; print(os.path.dirname(inspect.getfile(tensorflow)))\n",
    "    "
   ]
  },
  {
   "cell_type": "code",
   "execution_count": 3,
   "metadata": {
    "collapsed": false
   },
   "outputs": [
    {
     "ename": "ImportError",
     "evalue": "No module named 'tensorflow'",
     "output_type": "error",
     "traceback": [
      "\u001b[0;31m---------------------------------------------------------------------------\u001b[0m",
      "\u001b[0;31mImportError\u001b[0m                               Traceback (most recent call last)",
      "\u001b[0;32m<ipython-input-3-f27b28c70958>\u001b[0m in \u001b[0;36m<module>\u001b[0;34m()\u001b[0m\n\u001b[1;32m      1\u001b[0m \u001b[0;32mimport\u001b[0m \u001b[0mos\u001b[0m\u001b[0;34m\u001b[0m\u001b[0m\n\u001b[1;32m      2\u001b[0m \u001b[0;32mimport\u001b[0m \u001b[0minspect\u001b[0m\u001b[0;34m;\u001b[0m\u001b[0;34m\u001b[0m\u001b[0m\n\u001b[0;32m----> 3\u001b[0;31m \u001b[0;32mimport\u001b[0m \u001b[0mtensorflow\u001b[0m\u001b[0;34m;\u001b[0m\u001b[0;34m\u001b[0m\u001b[0m\n\u001b[0m\u001b[1;32m      4\u001b[0m \u001b[0mprint\u001b[0m\u001b[0;34m(\u001b[0m\u001b[0mos\u001b[0m\u001b[0;34m.\u001b[0m\u001b[0mpath\u001b[0m\u001b[0;34m.\u001b[0m\u001b[0mdirname\u001b[0m\u001b[0;34m(\u001b[0m\u001b[0minspect\u001b[0m\u001b[0;34m.\u001b[0m\u001b[0mgetfile\u001b[0m\u001b[0;34m(\u001b[0m\u001b[0mtensorflow\u001b[0m\u001b[0;34m)\u001b[0m\u001b[0;34m)\u001b[0m\u001b[0;34m)\u001b[0m\u001b[0;34m\u001b[0m\u001b[0m\n",
      "\u001b[0;31mImportError\u001b[0m: No module named 'tensorflow'"
     ]
    }
   ],
   "source": [
    "import os\n",
    "import inspect; \n",
    "import tensorflow; \n",
    "print(os.path.dirname(inspect.getfile(tensorflow)))"
   ]
  },
  {
   "cell_type": "code",
   "execution_count": null,
   "metadata": {
    "collapsed": true
   },
   "outputs": [],
   "source": []
  },
  {
   "cell_type": "code",
   "execution_count": null,
   "metadata": {
    "collapsed": true
   },
   "outputs": [],
   "source": []
  }
 ],
 "metadata": {
  "anaconda-cloud": {},
  "kernelspec": {
   "display_name": "Python [conda env:tensorflow]",
   "language": "python",
   "name": "conda-env-tensorflow-py"
  },
  "language_info": {
   "codemirror_mode": {
    "name": "ipython",
    "version": 3
   },
   "file_extension": ".py",
   "mimetype": "text/x-python",
   "name": "python",
   "nbconvert_exporter": "python",
   "pygments_lexer": "ipython3",
   "version": "3.5.2"
  }
 },
 "nbformat": 4,
 "nbformat_minor": 1
}
